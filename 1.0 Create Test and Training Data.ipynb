{
 "cells": [
  {
   "cell_type": "markdown",
   "metadata": {},
   "source": [
    "# Creating Test and Training Data\n",
    "\n",
    "The following code will create a .npz file\n",
    "This File contains a specific number of training and test images. \n",
    "We will later pass this data in our neural network."
   ]
  },
  {
   "cell_type": "code",
   "execution_count": 1,
   "metadata": {},
   "outputs": [
    {
     "name": "stdout",
     "output_type": "stream",
     "text": [
      "Package loaded\n",
      "Current folder is C:\\Users\\nur20\\Documents\\GitHub\\TensorFlow-Master\n"
     ]
    }
   ],
   "source": [
    "import numpy as np\n",
    "import os\n",
    "from scipy.misc import imread, imresize\n",
    "import matplotlib.pyplot as plt\n",
    "  \n",
    "print (\"Package loaded\") \n",
    "cwd = os.getcwd()\n",
    "print (\"Current folder is %s\" % (cwd) )"
   ]
  },
  {
   "cell_type": "code",
   "execution_count": 2,
   "metadata": {},
   "outputs": [
    {
     "name": "stdout",
     "output_type": "stream",
     "text": [
      "Your images should be at\n",
      " [1/2] C:\\Users\\nur20\\Documents\\GitHub\\TensorFlow-Master/img_dataset/Arnold\n",
      " [2/2] C:\\Users\\nur20\\Documents\\GitHub\\TensorFlow-Master/img_dataset/Bush\n"
     ]
    }
   ],
   "source": [
    "#Set Path for training and Testdata! \n",
    "paths = {\"img_dataset/Bush\", \"img_dataset/Arnold\"}\n",
    "\n",
    "# Set the imagesize of the training and testting data\n",
    "imgsize = [64, 64]\n",
    "\n",
    "# Training and Testingdata will be grayscaled\n",
    "use_gray = 1\n",
    "\n",
    "# Set Name of the saved training/ testing data file\n",
    "data_name = \"custom_data\"\n",
    "\n",
    "print (\"Your images should be at\")\n",
    "for i, path in enumerate(paths):\n",
    "    # Your image should be at [1/i(Anzahl der Paths)] /cwd(home/data/Facerecognition)/path(z.B. img_dataset/Ben) \n",
    "    print (\" [%d/%d] %s/%s\" % (i+1, len(paths), cwd, path)) "
   ]
  },
  {
   "cell_type": "code",
   "execution_count": 3,
   "metadata": {},
   "outputs": [
    {
     "name": "stdout",
     "output_type": "stream",
     "text": [
      "Data will be saved to C:\\Users\\nur20\\Documents\\GitHub\\TensorFlow-Master/data/custom_data.npz\n",
      "Total 224 images loaded.\n"
     ]
    }
   ],
   "source": [
    "# Shows the path where the .npz file (Training and Testing data) will be stored\n",
    "print (\"Data will be saved to %s\"% (cwd + '/data/' + data_name + '.npz'))\n",
    "\n",
    "# Function, that turnes the image to a gray image\n",
    "def rgb2gray(rgb):\n",
    "    # If the length of the images shape is 3 \n",
    "    if len(rgb.shape) is 3:\n",
    "        return np.dot(rgb[...,:3], [0.299, 0.587, 0.114])\n",
    "    else:\n",
    "        # print (\"Current Image if GRAY!\")\n",
    "        return rgb\n",
    "\n",
    "# Nr of classes (image sets)\n",
    "nclass     = len(paths)\n",
    "valid_exts = [\".jpg\",\".gif\",\".png\",\".tga\", \".jpeg\"]\n",
    "imgcnt     = 0\n",
    "\n",
    "# i counts through the number of classes (Not inside of the folders)\n",
    "for i, relpath in zip(range(nclass), paths):\n",
    "    path = cwd + \"/\" + relpath\n",
    "\n",
    "    # A list of all file names inside of (path = imagefolder) will be stored in \"flist\"\n",
    "    flist = os.listdir(path)\n",
    "    \n",
    "    # f counts through the list of images inside of class folder (f = George_W_Bush_0001.jpg, ...)\n",
    "    for f in flist:\n",
    "\n",
    "        # check if image has the right format\n",
    "        if os.path.splitext(f)[1].lower() not in valid_exts:\n",
    "            continue\n",
    "            \n",
    "        # add f as a variable to the path (f = image full name, George_W_Bush_0001...)\n",
    "        fullpath = os.path.join(path, f)\n",
    "\n",
    "        # Read image \n",
    "        currimg  = imread(fullpath)\n",
    "        \n",
    "        # Convert to grayscale  \n",
    "        if use_gray:\n",
    "            \n",
    "            # Call rgb2gray function\n",
    "            grayimg  = rgb2gray(currimg)\n",
    "        else:\n",
    "            \n",
    "            # If its already gray, do nothing\n",
    "            grayimg  = currimg\n",
    "            \n",
    "        # resize the image (image,new width, new heidth)/255\n",
    "        graysmall = imresize(grayimg, [imgsize[0], imgsize[1]])/255. \n",
    "\n",
    "        # reshape image to 1 x 4096 vector\n",
    "        grayvec   = np.reshape(graysmall, (1, -1))\n",
    "        \n",
    "        # Save -  curr_label is a vector [1. 0. 0.] then [0. 1. 0.] then [0. 0. 1.] and so on\n",
    "        # np.eye returns a 2-D array with ones on the diagonal and zeros elsewhere\n",
    "        # Here it is just a [1xn] array and we use it for labeling the images\n",
    "        curr_label = np.eye(nclass, nclass)[i:i+1, :]\n",
    "\n",
    "        if imgcnt is 0:\n",
    "            totalimg   = grayvec\n",
    "            totallabel = curr_label\n",
    "        else:\n",
    "            \n",
    "            # concatenate -> Join a sequence of arrays along an existing axis.\n",
    "            # totalimg contains now all all images as a long vector [923 x 4096]\n",
    "            totalimg   = np.concatenate((totalimg, grayvec), axis=0)\n",
    "            totallabel = np.concatenate((totallabel, curr_label), axis=0)\n",
    "        \n",
    "        # Next image\n",
    "        imgcnt    = imgcnt + 1\n",
    "print (\"Total %d images loaded.\" % (imgcnt))"
   ]
  },
  {
   "cell_type": "code",
   "execution_count": 4,
   "metadata": {},
   "outputs": [
    {
     "name": "stdout",
     "output_type": "stream",
     "text": [
      "Shape of 'trainimg' is (134, 4096)\n",
      "Shape of 'trainlabel' is (134, 2)\n",
      "Shape of 'testimg' is (90, 4096)\n",
      "Shape of 'testlabel' is (90, 2)\n",
      "Saved to C:\\Users\\nur20\\Documents\\GitHub\\TensorFlow-Master/data/custom_data.npz\n"
     ]
    }
   ],
   "source": [
    "def print_shape(string, x):\n",
    "    print (\"Shape of '%s' is %s\" % (string, x.shape,))\n",
    "\n",
    "# creates an array with values from zero to imgcnt and with the lengt: imgcnt\n",
    "randidx    = np.random.randint(imgcnt, size=imgcnt)\n",
    "\n",
    "# save 3/5 of the array randidx in trainidx\n",
    "trainidx   = randidx[0:int(3*imgcnt/5)]\n",
    "\n",
    "# save the rest (2/5) of the random array in testidx\n",
    "testidx    = randidx[int(3*imgcnt/5):imgcnt]\n",
    "\n",
    "# use the above defined arrays and devide the image/label list array in test and training set (3/5 - 2/5)\n",
    "trainimg   = totalimg[trainidx, :]\n",
    "trainlabel = totallabel[trainidx, :]\n",
    "testimg    = totalimg[testidx, :]\n",
    "testlabel  = totallabel[testidx, :]\n",
    "print_shape(\"trainimg\", trainimg)\n",
    "print_shape(\"trainlabel\", trainlabel)\n",
    "print_shape(\"testimg\", testimg)\n",
    "print_shape(\"testlabel\", testlabel)\n",
    "\n",
    "# Save all data in an .npz (zip file)\n",
    "# passed data\n",
    "# - training images\n",
    "# - training labels\n",
    "# - test images\n",
    "# - test labels\n",
    "# - Nr. of images\n",
    "# - gray images or not\n",
    "savepath = cwd + \"/data/\" + data_name + \".npz\"\n",
    "np.savez(savepath, trainimg=trainimg, trainlabel=trainlabel\n",
    "         , testimg=testimg, testlabel=testlabel, imgsize=imgsize, use_gray=use_gray)\n",
    "print (\"Saved to %s\" % (savepath))"
   ]
  }
 ],
 "metadata": {
  "kernelspec": {
   "display_name": "Python 3",
   "language": "python",
   "name": "python3"
  },
  "language_info": {
   "codemirror_mode": {
    "name": "ipython",
    "version": 3
   },
   "file_extension": ".py",
   "mimetype": "text/x-python",
   "name": "python",
   "nbconvert_exporter": "python",
   "pygments_lexer": "ipython3",
   "version": "3.5.2"
  }
 },
 "nbformat": 4,
 "nbformat_minor": 2
}
